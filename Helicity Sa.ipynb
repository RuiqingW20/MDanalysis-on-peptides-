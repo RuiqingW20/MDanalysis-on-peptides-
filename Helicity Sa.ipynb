{
 "cells": [
  {
   "cell_type": "code",
   "execution_count": 58,
   "id": "6d8570d0",
   "metadata": {},
   "outputs": [],
   "source": [
    "import numpy as np\n",
    "import pandas as pd\n",
    "import random\n",
    "import matplotlib.pyplot as plt\n",
    "import seaborn as sns\n",
    "import os\n",
    "import glob\n",
    "from os.path import basename,splitext"
   ]
  },
  {
   "cell_type": "code",
   "execution_count": 59,
   "id": "0ce4fc94",
   "metadata": {},
   "outputs": [],
   "source": [
    "peptide_length = 15"
   ]
  },
  {
   "cell_type": "code",
   "execution_count": 60,
   "id": "ca4fc956",
   "metadata": {},
   "outputs": [],
   "source": [
    "def Sa_calculation(num):\n",
    "    Sa = (1-num**(8))/(1-num**(12))\n",
    "    return Sa"
   ]
  },
  {
   "cell_type": "code",
   "execution_count": 61,
   "id": "ada6982d",
   "metadata": {},
   "outputs": [],
   "source": [
    "import re\n",
    "numbers = re.compile(r'(\\d+)')\n",
    "def numericalSort(value):\n",
    "    parts = numbers.split(value)\n",
    "    parts[1::2] = map(int, parts[1::2])\n",
    "    return parts"
   ]
  },
  {
   "cell_type": "code",
   "execution_count": 62,
   "id": "e1b0d987",
   "metadata": {},
   "outputs": [],
   "source": [
    "RMSD_list_1 = []\n",
    "files = glob.glob('rmsd/*.xvg')\n",
    "for file in sorted(files,key=numericalSort):\n",
    "    data = pd.read_csv(file, skiprows = 18, header = None, sep = '\\s+')\n",
    "    data.columns = ['time', 'RMSD']\n",
    "    rmsd_mean = np.mean(data['RMSD'])\n",
    "    RMSD_list_1.append(rmsd_mean)"
   ]
  },
  {
   "cell_type": "code",
   "execution_count": 63,
   "id": "699f2089",
   "metadata": {},
   "outputs": [],
   "source": [
    "RMSD_list_2 = []\n",
    "files = glob.glob('rmsd_nacl/*.xvg')\n",
    "for file in sorted(files,key=numericalSort):\n",
    "    data = pd.read_csv(file, skiprows = 18, header = None, sep = '\\s+')\n",
    "    data.columns = ['time', 'RMSD']\n",
    "    rmsd_mean = np.mean(data['RMSD'])\n",
    "    RMSD_list_2.append(rmsd_mean)"
   ]
  },
  {
   "cell_type": "code",
   "execution_count": 64,
   "id": "06b72a1a",
   "metadata": {},
   "outputs": [],
   "source": [
    "RMSD_list_3 = []\n",
    "files = glob.glob('rmsd_naclo4/*.xvg')\n",
    "for file in sorted(files,key=numericalSort):\n",
    "    data = pd.read_csv(file, skiprows = 18, header = None, sep = '\\s+')\n",
    "    data.columns = ['time', 'RMSD']\n",
    "    rmsd_mean = np.mean(data['RMSD'])\n",
    "    RMSD_list_3.append(rmsd_mean)"
   ]
  },
  {
   "cell_type": "code",
   "execution_count": 72,
   "id": "3978e995",
   "metadata": {},
   "outputs": [
    {
     "data": {
      "text/plain": [
       "[0.20825878399216066,\n",
       " 0.2234480523354748,\n",
       " 0.23243981995279964,\n",
       " 0.2423428536414635,\n",
       " 0.24300724943550608,\n",
       " 0.2270672657603423,\n",
       " 0.22137816671933244,\n",
       " 0.23814268159218518,\n",
       " 0.25371537938420685,\n",
       " 0.25615293303566783]"
      ]
     },
     "execution_count": 72,
     "metadata": {},
     "output_type": "execute_result"
    }
   ],
   "source": [
    "RMSD_list_3"
   ]
  },
  {
   "cell_type": "code",
   "execution_count": 65,
   "id": "2b918b6a",
   "metadata": {},
   "outputs": [],
   "source": [
    "Sa_1 = [Sa_calculation(i) for i in RMSD_list_1]\n",
    "sum_num1 = sum(Sa_1)"
   ]
  },
  {
   "cell_type": "code",
   "execution_count": 66,
   "id": "6eecd7bd",
   "metadata": {
    "scrolled": true
   },
   "outputs": [],
   "source": [
    "Sa_2 = [Sa_calculation(i) for i in RMSD_list_2]\n",
    "sum_num1 = sum(Sa_2)"
   ]
  },
  {
   "cell_type": "code",
   "execution_count": 67,
   "id": "3cca2f71",
   "metadata": {},
   "outputs": [],
   "source": [
    "Sa_3 = [Sa_calculation(i) for i in RMSD_list_3]\n",
    "sum_num1 = sum(Sa_3)"
   ]
  },
  {
   "cell_type": "code",
   "execution_count": 68,
   "id": "c2301985",
   "metadata": {},
   "outputs": [],
   "source": [
    "frac_helix1 = []\n",
    "frac_helix1 = [ i/sum_num1 for i in Sa_1]\n",
    "frac_helix2 = []\n",
    "frac_helix2 = [ i/sum_num1 for i in Sa_2]\n",
    "frac_helix3 = []\n",
    "frac_helix3 = [ i/sum_num1 for i in Sa_3]"
   ]
  },
  {
   "cell_type": "code",
   "execution_count": 69,
   "id": "a56850f2",
   "metadata": {},
   "outputs": [
    {
     "data": {
      "image/png": "[encoded data removed]",
      "text/plain": [
       "<Figure size 640x480 with 1 Axes>"
      ]
     },
     "metadata": {},
     "output_type": "display_data"
    }
   ],
   "source": [
    "x = np.arange(1, 11)\n",
    "y1 = np.array(frac_helix1)\n",
    "y2 = np.array(frac_helix2)\n",
    "y3 = np.array(frac_helix3)\n",
    "plt.ylim(0,0.2)\n",
    "plt.ylabel('fractional helicity')\n",
    "plt.xlabel('peptide residue')\n",
    "plt.plot(x, y1, linestyle = '-',marker='o',color = 'r',label='asyn')\n",
    "plt.plot(x, y2, linestyle = '-',marker='o',color = 'g',label='asyn-nacl')\n",
    "plt.plot(x, y3, linestyle = '-',marker='o',color = 'b',label='asyn-naclo4')\n",
    "plt.legend()\n",
    "plt.show()"
   ]
  },
  {
   "cell_type": "code",
   "execution_count": null,
   "id": "6fc309ea",
   "metadata": {},
   "outputs": [],
   "source": []
  }
 ],
 "metadata": {
  "kernelspec": {
   "display_name": "Python 3 (ipykernel)",
   "language": "python",
   "name": "python3"
  },
  "language_info": {
   "codemirror_mode": {
    "name": "ipython",
    "version": 3
   },
   "file_extension": ".py",
   "mimetype": "text/x-python",
   "name": "python",
   "nbconvert_exporter": "python",
   "pygments_lexer": "ipython3",
   "version": "3.8.15"
  }
 },
 "nbformat": 4,
 "nbformat_minor": 5
}
