{
 "cells": [
  {
   "cell_type": "code",
   "execution_count": 1,
   "id": "b00417f0",
   "metadata": {},
   "outputs": [],
   "source": [
    "import pandas as pd\n",
    "import numpy as np\n",
    "import random\n",
    "import matplotlib.pyplot as plt\n",
    "import seaborn as sns"
   ]
  },
  {
   "cell_type": "code",
   "execution_count": 2,
   "id": "35ab7390",
   "metadata": {},
   "outputs": [],
   "source": [
    "H1 = (-0.058,-0.0568,-0.0609,-0.0527,-0.0937,-0.0974,-0.0765,-0.0667,-0.1269,-0.0882,-0.0922,-0.0659,-0.0268,0.01)"
   ]
  },
  {
   "cell_type": "code",
   "execution_count": 3,
   "id": "a557dfe7",
   "metadata": {},
   "outputs": [],
   "source": [
    "N1 = (-0.218,-0.323,-0.32,-0.322,-0.643,-0.435,-0.177,-0.49,-0.453,-0.544,-0.378,0.591,-0.11,0.005)"
   ]
  },
  {
   "cell_type": "code",
   "execution_count": 5,
   "id": "94da657a",
   "metadata": {},
   "outputs": [
    {
     "data": {
      "image/png": "[encoded data removed]",
      "text/plain": [
       "<Figure size 432x288 with 1 Axes>"
      ]
     },
     "metadata": {
      "needs_background": "light"
     },
     "output_type": "display_data"
    }
   ],
   "source": [
    "plt.plot(H1, N1, 'o', color='black');"
   ]
  }
 ],
 "metadata": {
  "kernelspec": {
   "display_name": "Python 3",
   "language": "python",
   "name": "python3"
  },
  "language_info": {
   "codemirror_mode": {
    "name": "ipython",
    "version": 3
   },
   "file_extension": ".py",
   "mimetype": "text/x-python",
   "name": "python",
   "nbconvert_exporter": "python",
   "pygments_lexer": "ipython3",
   "version": "3.8.8"
  }
 },
 "nbformat": 4,
 "nbformat_minor": 5
}
